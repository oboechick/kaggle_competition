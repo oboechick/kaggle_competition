{
 "cells": [
  {
   "cell_type": "markdown",
   "metadata": {},
   "source": [
    "### Starting clean. This is based on:\n",
    "https://www.kaggle.com/abhishek/predict-west-nile-virus/vote-me-up"
   ]
  },
  {
   "cell_type": "code",
   "execution_count": 23,
   "metadata": {
    "collapsed": true
   },
   "outputs": [],
   "source": [
    "import pandas as pd\n",
    "import numpy as np\n",
    "from sklearn import ensemble, preprocessing\n",
    "import matplotlib\n",
    "import matplotlib.pyplot as plt\n",
    "import seaborn as sns\n",
    "import cPickle\n",
    "\n",
    "%config InlineBackend.figure_format = 'retina'\n",
    "%matplotlib inline\n",
    "\n",
    "# plot styles\n",
    "plt.style.use('seaborn-whitegrid')\n",
    "sns.set_style('whitegrid')"
   ]
  },
  {
   "cell_type": "code",
   "execution_count": 24,
   "metadata": {
    "collapsed": true
   },
   "outputs": [],
   "source": [
    "spray = pd.read_csv('../assets/spray.csv')\n",
    "weather = pd.read_csv('../assets/weather.csv')\n",
    "train = pd.read_csv('../assets/train.csv')\n",
    "test = pd.read_csv('../assets/test.csv')\n",
    "sample = pd.read_csv('../assets/sampleSubmission.csv')"
   ]
  },
  {
   "cell_type": "markdown",
   "metadata": {},
   "source": [
    "## Set y now:"
   ]
  },
  {
   "cell_type": "code",
   "execution_count": 25,
   "metadata": {
    "collapsed": true
   },
   "outputs": [],
   "source": [
    "y = train.WnvPresent.values"
   ]
  },
  {
   "cell_type": "markdown",
   "metadata": {},
   "source": [
    "## make edits to train/test in parallel"
   ]
  },
  {
   "cell_type": "code",
   "execution_count": 26,
   "metadata": {
    "collapsed": true
   },
   "outputs": [],
   "source": [
    "from geopy.distance import vincenty\n",
    "\n",
    "# calculate the distance between a test trap and a spray for a given date\n",
    "#test = train[9100:9110]\n",
    "\n",
    "def calc_dist_to_spray(df):\n",
    "    # list of distances\n",
    "    distances_to_spray= []\n",
    "    # if no spray, distance is 25\n",
    "    dist_to_spray = 25\n",
    "    \n",
    "    # only need to look at 2011 and 2013\n",
    "    if ('2011' in df.Date) or ('2013' in df.Date):\n",
    "                \n",
    "        # get the location of the trap site\n",
    "        lat_long_train = (df.Latitude,df.Longitude)\n",
    "        date = df.Date\n",
    "        distances = []\n",
    "        # look for the date in the spray info\n",
    "        for ispr,spr in spray[spray.Date == date].iterrows():\n",
    "            # get the location of the spray site\n",
    "            lat_long_spray = (spr.Latitude,spr.Longitude)\n",
    "            \n",
    "            # calculate the distance between the spray and trap locations \n",
    "            distance = vincenty(lat_long_train,lat_long_spray).miles\n",
    "            distances_to_spray.append(distance)\n",
    "            \n",
    "        # if there are distances, return the smallest one\n",
    "        if len(distances_to_spray) > 0:\n",
    "            # sort so the smallest distance is first\n",
    "            distances_to_spray = sorted(distances_to_spray)\n",
    "            \n",
    "            dist_to_spray = distances_to_spray[0]\n",
    "            #print dist_to_spray\n",
    "            \n",
    "    # return the distance (or None)\n",
    "    return dist_to_spray        "
   ]
  },
  {
   "cell_type": "code",
   "execution_count": 27,
   "metadata": {
    "collapsed": true
   },
   "outputs": [],
   "source": [
    "# train['dist_to_spray'] = train.apply(calc_dist_to_spray,axis=1)\n",
    "# test['dist_to_spray'] = 25  # no sprays occur in this date range"
   ]
  },
  {
   "cell_type": "markdown",
   "metadata": {},
   "source": [
    "### clean the weather data"
   ]
  },
  {
   "cell_type": "code",
   "execution_count": 28,
   "metadata": {
    "collapsed": true
   },
   "outputs": [],
   "source": [
    "# Not using codesum for this benchmark\n",
    "weather = weather.drop('CodeSum', axis=1)\n",
    "\n",
    "# Split station 1 and 2 and join horizontally\n",
    "weather_stn1 = weather[weather['Station']==1]\n",
    "weather_stn2 = weather[weather['Station']==2]\n",
    "weather_stn1 = weather_stn1.drop('Station', axis=1)\n",
    "weather_stn2 = weather_stn2.drop('Station', axis=1)\n",
    "weather = weather_stn1.merge(weather_stn2, on='Date')\n",
    "\n",
    "# replace some missing values and T with -1\n",
    "weather = weather.replace('M', -1)\n",
    "weather = weather.replace('-', -1)\n",
    "weather = weather.replace('T', -1)\n",
    "weather = weather.replace(' T', -1)\n",
    "weather = weather.replace('  T', -1)"
   ]
  },
  {
   "cell_type": "code",
   "execution_count": 29,
   "metadata": {
    "collapsed": false
   },
   "outputs": [
    {
     "data": {
      "text/html": [
       "<div>\n",
       "<table border=\"1\" class=\"dataframe\">\n",
       "  <thead>\n",
       "    <tr style=\"text-align: right;\">\n",
       "      <th></th>\n",
       "      <th>Date</th>\n",
       "      <th>Tmax_x</th>\n",
       "      <th>Tmin_x</th>\n",
       "      <th>Tavg_x</th>\n",
       "      <th>Depart_x</th>\n",
       "      <th>DewPoint_x</th>\n",
       "      <th>WetBulb_x</th>\n",
       "      <th>Heat_x</th>\n",
       "      <th>Cool_x</th>\n",
       "      <th>Sunrise_x</th>\n",
       "      <th>...</th>\n",
       "      <th>Sunset_y</th>\n",
       "      <th>Depth_y</th>\n",
       "      <th>Water1_y</th>\n",
       "      <th>SnowFall_y</th>\n",
       "      <th>PrecipTotal_y</th>\n",
       "      <th>StnPressure_y</th>\n",
       "      <th>SeaLevel_y</th>\n",
       "      <th>ResultSpeed_y</th>\n",
       "      <th>ResultDir_y</th>\n",
       "      <th>AvgSpeed_y</th>\n",
       "    </tr>\n",
       "  </thead>\n",
       "  <tbody>\n",
       "    <tr>\n",
       "      <th>0</th>\n",
       "      <td>2007-05-01</td>\n",
       "      <td>83</td>\n",
       "      <td>50</td>\n",
       "      <td>67</td>\n",
       "      <td>14</td>\n",
       "      <td>51</td>\n",
       "      <td>56</td>\n",
       "      <td>0</td>\n",
       "      <td>2</td>\n",
       "      <td>0448</td>\n",
       "      <td>...</td>\n",
       "      <td>-1</td>\n",
       "      <td>-1</td>\n",
       "      <td>-1</td>\n",
       "      <td>-1</td>\n",
       "      <td>0.00</td>\n",
       "      <td>29.18</td>\n",
       "      <td>29.82</td>\n",
       "      <td>2.7</td>\n",
       "      <td>25</td>\n",
       "      <td>9.6</td>\n",
       "    </tr>\n",
       "    <tr>\n",
       "      <th>1</th>\n",
       "      <td>2007-05-02</td>\n",
       "      <td>59</td>\n",
       "      <td>42</td>\n",
       "      <td>51</td>\n",
       "      <td>-3</td>\n",
       "      <td>42</td>\n",
       "      <td>47</td>\n",
       "      <td>14</td>\n",
       "      <td>0</td>\n",
       "      <td>0447</td>\n",
       "      <td>...</td>\n",
       "      <td>-1</td>\n",
       "      <td>-1</td>\n",
       "      <td>-1</td>\n",
       "      <td>-1</td>\n",
       "      <td>0.00</td>\n",
       "      <td>29.44</td>\n",
       "      <td>30.08</td>\n",
       "      <td>13.3</td>\n",
       "      <td>2</td>\n",
       "      <td>13.4</td>\n",
       "    </tr>\n",
       "  </tbody>\n",
       "</table>\n",
       "<p>2 rows × 39 columns</p>\n",
       "</div>"
      ],
      "text/plain": [
       "         Date  Tmax_x  Tmin_x Tavg_x Depart_x  DewPoint_x WetBulb_x Heat_x  \\\n",
       "0  2007-05-01      83      50     67       14          51        56      0   \n",
       "1  2007-05-02      59      42     51       -3          42        47     14   \n",
       "\n",
       "  Cool_x Sunrise_x    ...     Sunset_y Depth_y  Water1_y SnowFall_y  \\\n",
       "0      2      0448    ...           -1      -1        -1         -1   \n",
       "1      0      0447    ...           -1      -1        -1         -1   \n",
       "\n",
       "  PrecipTotal_y StnPressure_y SeaLevel_y  ResultSpeed_y  ResultDir_y  \\\n",
       "0          0.00         29.18      29.82            2.7           25   \n",
       "1          0.00         29.44      30.08           13.3            2   \n",
       "\n",
       "  AvgSpeed_y  \n",
       "0        9.6  \n",
       "1       13.4  \n",
       "\n",
       "[2 rows x 39 columns]"
      ]
     },
     "execution_count": 29,
     "metadata": {},
     "output_type": "execute_result"
    }
   ],
   "source": [
    "weather.head(2)"
   ]
  },
  {
   "cell_type": "markdown",
   "metadata": {},
   "source": [
    "### Add month and day columns to train/test"
   ]
  },
  {
   "cell_type": "code",
   "execution_count": 30,
   "metadata": {
    "collapsed": false
   },
   "outputs": [
    {
     "name": "stdout",
     "output_type": "stream",
     "text": [
      "         Date                                            Address  \\\n",
      "0  2007-05-29  4100 North Oak Park Avenue, Chicago, IL 60634,...   \n",
      "\n",
      "                  Species  Block           Street  Trap  \\\n",
      "0  CULEX PIPIENS/RESTUANS     41   N OAK PARK AVE  T002   \n",
      "\n",
      "              AddressNumberAndStreet  Latitude  Longitude  AddressAccuracy  \\\n",
      "0  4100  N OAK PARK AVE, Chicago, IL  41.95469 -87.800991                9   \n",
      "\n",
      "   NumMosquitos  WnvPresent month day  year  \n",
      "0             1           0  2007  29  2007   \n",
      "================================================\n",
      "\n",
      "   Id        Date                                            Address  \\\n",
      "0   1  2008-06-11  4100 North Oak Park Avenue, Chicago, IL 60634,...   \n",
      "\n",
      "                  Species  Block           Street  Trap  \\\n",
      "0  CULEX PIPIENS/RESTUANS     41   N OAK PARK AVE  T002   \n",
      "\n",
      "              AddressNumberAndStreet  Latitude  Longitude  AddressAccuracy  \\\n",
      "0  4100  N OAK PARK AVE, Chicago, IL  41.95469 -87.800991                9   \n",
      "\n",
      "  month day  year  \n",
      "0  2008  11  2008  \n"
     ]
    }
   ],
   "source": [
    "def create_month(x):\n",
    "    return x.split('-')[1]\n",
    "\n",
    "def create_day(x):\n",
    "    return x.split('-')[2]\n",
    "\n",
    "def create_month(x):\n",
    "    return x.split('-')[0]\n",
    "\n",
    "train['month'] = train.Date.apply(create_month)\n",
    "train['day'] = train.Date.apply(create_day)\n",
    "train['year']  = train.Date.apply(create_month)\n",
    "test['month'] = test.Date.apply(create_month)\n",
    "test['day'] = test.Date.apply(create_day)\n",
    "test['year']  = test.Date.apply(create_month)\n",
    "\n",
    "print train.head(1),'\\n================================================\\n'\n",
    "print test.head(1)"
   ]
  },
  {
   "cell_type": "code",
   "execution_count": 31,
   "metadata": {
    "collapsed": false
   },
   "outputs": [
    {
     "name": "stdout",
     "output_type": "stream",
     "text": [
      "         Date                                            Address  \\\n",
      "0  2007-05-29  4100 North Oak Park Avenue, Chicago, IL 60634,...   \n",
      "\n",
      "                  Species  Block           Street  Trap  \\\n",
      "0  CULEX PIPIENS/RESTUANS     41   N OAK PARK AVE  T002   \n",
      "\n",
      "              AddressNumberAndStreet  Latitude  Longitude  AddressAccuracy  \\\n",
      "0  4100  N OAK PARK AVE, Chicago, IL  41.95469 -87.800991                9   \n",
      "\n",
      "   NumMosquitos  WnvPresent month day  year  Lat_int  Long_int  \n",
      "0             1           0  2007  29  2007       41       -87   \n",
      "================================================\n",
      "\n",
      "   Id        Date                                            Address  \\\n",
      "0   1  2008-06-11  4100 North Oak Park Avenue, Chicago, IL 60634,...   \n",
      "\n",
      "                  Species  Block           Street  Trap  \\\n",
      "0  CULEX PIPIENS/RESTUANS     41   N OAK PARK AVE  T002   \n",
      "\n",
      "              AddressNumberAndStreet  Latitude  Longitude  AddressAccuracy  \\\n",
      "0  4100  N OAK PARK AVE, Chicago, IL  41.95469 -87.800991                9   \n",
      "\n",
      "  month day  year  Lat_int  Long_int  \n",
      "0  2008  11  2008       41       -87  \n"
     ]
    }
   ],
   "source": [
    "# Add integer latitude/longitude columns\n",
    "train['Lat_int'] = train.Latitude.apply(int)\n",
    "train['Long_int'] = train.Longitude.apply(int)\n",
    "test['Lat_int'] = test.Latitude.apply(int)\n",
    "test['Long_int'] = test.Longitude.apply(int)\n",
    "\n",
    "print train.head(1),'\\n================================================\\n'\n",
    "print test.head(1)"
   ]
  },
  {
   "cell_type": "code",
   "execution_count": 32,
   "metadata": {
    "collapsed": true
   },
   "outputs": [],
   "source": [
    "# drop some columns\n",
    "train = train.drop(['Address', 'AddressNumberAndStreet','WnvPresent', 'NumMosquitos'], axis = 1)\n",
    "test = test.drop(['Id', 'Address', 'AddressNumberAndStreet'], axis = 1)"
   ]
  },
  {
   "cell_type": "markdown",
   "metadata": {},
   "source": [
    "### Merge with weather data"
   ]
  },
  {
   "cell_type": "code",
   "execution_count": 33,
   "metadata": {
    "collapsed": false
   },
   "outputs": [
    {
     "name": "stdout",
     "output_type": "stream",
     "text": [
      "                  Species  Block           Street  Trap  Latitude  Longitude  \\\n",
      "0  CULEX PIPIENS/RESTUANS     41   N OAK PARK AVE  T002  41.95469 -87.800991   \n",
      "\n",
      "   AddressAccuracy month day  year    ...      Sunset_y  Depth_y  Water1_y  \\\n",
      "0                9  2007  29  2007    ...            -1       -1        -1   \n",
      "\n",
      "   SnowFall_y PrecipTotal_y StnPressure_y  SeaLevel_y ResultSpeed_y  \\\n",
      "0          -1          0.00         29.44       30.09           5.8   \n",
      "\n",
      "  ResultDir_y AvgSpeed_y  \n",
      "0          16        7.4  \n",
      "\n",
      "[1 rows x 50 columns] \n",
      "================================================\n",
      "\n",
      "                  Species  Block           Street  Trap  Latitude  Longitude  \\\n",
      "0  CULEX PIPIENS/RESTUANS     41   N OAK PARK AVE  T002  41.95469 -87.800991   \n",
      "\n",
      "   AddressAccuracy month day  year    ...      Sunset_y  Depth_y  Water1_y  \\\n",
      "0                9  2008  11  2008    ...            -1       -1        -1   \n",
      "\n",
      "   SnowFall_y PrecipTotal_y StnPressure_y  SeaLevel_y ResultSpeed_y  \\\n",
      "0          -1          0.00         29.34       29.97           9.4   \n",
      "\n",
      "  ResultDir_y AvgSpeed_y  \n",
      "0          18       10.4  \n",
      "\n",
      "[1 rows x 50 columns]\n"
     ]
    }
   ],
   "source": [
    "# Merge with weather data\n",
    "train = train.merge(weather, on='Date')\n",
    "test = test.merge(weather, on='Date')\n",
    "train = train.drop(['Date'], axis = 1)\n",
    "test = test.drop(['Date'], axis = 1)\n",
    "print train.head(1),'\\n================================================\\n'\n",
    "print test.head(1)"
   ]
  },
  {
   "cell_type": "code",
   "execution_count": 34,
   "metadata": {
    "collapsed": true
   },
   "outputs": [],
   "source": [
    "# Convert categorical data to numbers\n",
    "lbl = preprocessing.LabelEncoder()\n",
    "lbl.fit(list(train['Species'].values) + list(test['Species'].values))\n",
    "train['Species'] = lbl.transform(train['Species'].values)\n",
    "test['Species'] = lbl.transform(test['Species'].values)\n",
    "\n",
    "lbl.fit(list(train['Street'].values) + list(test['Street'].values))\n",
    "train['Street'] = lbl.transform(train['Street'].values)\n",
    "test['Street'] = lbl.transform(test['Street'].values)\n",
    "\n",
    "lbl.fit(list(train['Trap'].values) + list(test['Trap'].values))\n",
    "train['Trap'] = lbl.transform(train['Trap'].values)\n",
    "test['Trap'] = lbl.transform(test['Trap'].values)\n"
   ]
  },
  {
   "cell_type": "code",
   "execution_count": 35,
   "metadata": {
    "collapsed": false
   },
   "outputs": [
    {
     "name": "stdout",
     "output_type": "stream",
     "text": [
      "   Species  Block  Street  Trap  Latitude  Longitude  AddressAccuracy month  \\\n",
      "0        2     41      36     1  41.95469 -87.800991                9  2007   \n",
      "\n",
      "  day  year    ...      Sunset_y  Depth_y  Water1_y  SnowFall_y PrecipTotal_y  \\\n",
      "0  29  2007    ...            -1       -1        -1          -1          0.00   \n",
      "\n",
      "  StnPressure_y  SeaLevel_y ResultSpeed_y ResultDir_y AvgSpeed_y  \n",
      "0         29.44       30.09           5.8          16        7.4  \n",
      "\n",
      "[1 rows x 50 columns] \n",
      "================================================\n",
      "\n",
      "   Species  Block  Street  Trap  Latitude  Longitude  AddressAccuracy month  \\\n",
      "0        2     41      36     1  41.95469 -87.800991                9  2008   \n",
      "\n",
      "  day  year    ...      Sunset_y  Depth_y  Water1_y  SnowFall_y PrecipTotal_y  \\\n",
      "0  11  2008    ...            -1       -1        -1          -1          0.00   \n",
      "\n",
      "  StnPressure_y  SeaLevel_y ResultSpeed_y ResultDir_y AvgSpeed_y  \n",
      "0         29.34       29.97           9.4          18       10.4  \n",
      "\n",
      "[1 rows x 50 columns]\n"
     ]
    }
   ],
   "source": [
    "print train.head(1),'\\n================================================\\n'\n",
    "print test.head(1)"
   ]
  },
  {
   "cell_type": "code",
   "execution_count": 36,
   "metadata": {
    "collapsed": false
   },
   "outputs": [
    {
     "name": "stdout",
     "output_type": "stream",
     "text": [
      "Index([u'Species', u'Block', u'Street', u'Trap', u'Latitude', u'Longitude',\n",
      "       u'AddressAccuracy', u'month', u'day', u'year', u'Lat_int', u'Long_int',\n",
      "       u'Tmax_x', u'Tmin_x', u'Tavg_x', u'Depart_x', u'DewPoint_x',\n",
      "       u'WetBulb_x', u'Heat_x', u'Cool_x', u'Sunrise_x', u'Sunset_x',\n",
      "       u'Depth_x', u'SnowFall_x', u'PrecipTotal_x', u'StnPressure_x',\n",
      "       u'SeaLevel_x', u'ResultSpeed_x', u'ResultDir_x', u'AvgSpeed_x',\n",
      "       u'Tmax_y', u'Tmin_y', u'Tavg_y', u'DewPoint_y', u'WetBulb_y', u'Heat_y',\n",
      "       u'Cool_y', u'PrecipTotal_y', u'StnPressure_y', u'SeaLevel_y',\n",
      "       u'ResultSpeed_y', u'ResultDir_y', u'AvgSpeed_y'],\n",
      "      dtype='object')\n",
      "Index([u'Species', u'Block', u'Street', u'Trap', u'Latitude', u'Longitude',\n",
      "       u'AddressAccuracy', u'month', u'day', u'year', u'Lat_int', u'Long_int',\n",
      "       u'Tmax_x', u'Tmin_x', u'Tavg_x', u'Depart_x', u'DewPoint_x',\n",
      "       u'WetBulb_x', u'Heat_x', u'Cool_x', u'Sunrise_x', u'Sunset_x',\n",
      "       u'Depth_x', u'SnowFall_x', u'PrecipTotal_x', u'StnPressure_x',\n",
      "       u'SeaLevel_x', u'ResultSpeed_x', u'ResultDir_x', u'AvgSpeed_x',\n",
      "       u'Tmax_y', u'Tmin_y', u'Tavg_y', u'DewPoint_y', u'WetBulb_y', u'Heat_y',\n",
      "       u'Cool_y', u'PrecipTotal_y', u'StnPressure_y', u'SeaLevel_y',\n",
      "       u'ResultSpeed_y', u'ResultDir_y', u'AvgSpeed_y'],\n",
      "      dtype='object')\n"
     ]
    }
   ],
   "source": [
    "# drop columns with -1s\n",
    "train = train.ix[:,(train != -1).any(axis=0)]\n",
    "test = test.ix[:,(test != -1).any(axis=0)]\n",
    "\n",
    "print train.columns\n",
    "print test.columns\n"
   ]
  },
  {
   "cell_type": "code",
   "execution_count": 37,
   "metadata": {
    "collapsed": false
   },
   "outputs": [
    {
     "name": "stdout",
     "output_type": "stream",
     "text": [
      "Fitting 5 folds for each of 100 candidates, totalling 500 fits\n"
     ]
    },
    {
     "name": "stderr",
     "output_type": "stream",
     "text": [
      "[Parallel(n_jobs=-1)]: Done  42 tasks      | elapsed:   56.3s\n",
      "[Parallel(n_jobs=-1)]: Done 192 tasks      | elapsed:  4.8min\n",
      "[Parallel(n_jobs=-1)]: Done 442 tasks      | elapsed: 11.8min\n",
      "[Parallel(n_jobs=-1)]: Done 500 out of 500 | elapsed: 13.5min finished\n"
     ]
    },
    {
     "name": "stdout",
     "output_type": "stream",
     "text": [
      "best score 0.947553778793\n",
      "best params {'n_estimators': 100, 'max_features': 2, 'max_depth': 2, 'min_samples_leaf': 34.333333333333329}\n"
     ]
    }
   ],
   "source": [
    "from sklearn.ensemble import RandomForestClassifier\n",
    "from sklearn.grid_search import GridSearchCV,RandomizedSearchCV\n",
    "\n",
    "rfc = RandomForestClassifier()\n",
    "\n",
    "rf_params = {\n",
    "    'max_features':[None,'log2','sqrt', 2,3,4,5],\n",
    "    'max_depth':[1,2,3,None],\n",
    "    'min_samples_leaf':np.linspace(1,101,10),\n",
    "    'n_estimators':[100,1000]\n",
    "}\n",
    "\n",
    "## gridsearch parameters, and cv =5\n",
    "rf_gs = RandomizedSearchCV(rfc, rf_params, cv=5, verbose=1, n_jobs=-1,n_iter=100).fit(train,y)\n",
    "print \"best score\", rf_gs.best_score_\n",
    "print \"best params\", rf_gs.best_params_\n",
    "# 0.67215 without spray distance\n",
    "# 0.65207 with spray distance and year\n",
    "# 0.63172 with out spray, distance, with year"
   ]
  },
  {
   "cell_type": "code",
   "execution_count": 38,
   "metadata": {
    "collapsed": false
   },
   "outputs": [],
   "source": [
    "# create predictions and submission file\n",
    "predictions = rf_gs.predict_proba(test)[:,1]\n",
    "sample['WnvPresent'] = predictions\n",
    "sample.to_csv('randomforest_rscv.csv', index=False)"
   ]
  },
  {
   "cell_type": "code",
   "execution_count": 39,
   "metadata": {
    "collapsed": false
   },
   "outputs": [],
   "source": [
    "# Random Forest Classifier \n",
    "clf = ensemble.RandomForestClassifier(n_jobs=-1, n_estimators=1000, min_samples_split=1)\n",
    "clf.fit(train, y)\n",
    "\n",
    "# create predictions and submission file\n",
    "predictions = clf.predict_proba(test)[:,1]\n",
    "sample['WnvPresent'] = predictions\n",
    "sample.to_csv('beat_the_benchmark.csv', index=False)\n",
    "# 0.66611 with basic rfc and spray distance and year\n",
    "# 0.67089 with out spray, distance, with year"
   ]
  },
  {
   "cell_type": "code",
   "execution_count": 40,
   "metadata": {
    "collapsed": true
   },
   "outputs": [],
   "source": [
    "# from sklearn.cross_validation import cross_val_score,train_test_split\n",
    "# from sklearn.svm import SVC\n",
    "\n",
    "# svm = SVC(C=1,probability=True).fit(train,y)\n",
    "\n",
    "# # create predictions and submission file\n",
    "# predictions = svm.predict_proba(test)[:,1]\n",
    "# sample['WnvPresent'] = predictions\n",
    "# sample.to_csv('svm.csv', index=False)\n",
    "# # 0.52176 without spray distance\n",
    "# # 0.51914 with spray distance and year"
   ]
  },
  {
   "cell_type": "code",
   "execution_count": 41,
   "metadata": {
    "collapsed": false
   },
   "outputs": [],
   "source": [
    "\n",
    "# tuned_parameters = [{'kernel': ['rbf'], 'gamma': [1e-3, 1e-4],\n",
    "#                      'C': [1, 10, 100, 1000]},\n",
    "#                     {'kernel': ['linear'], 'C': [1, 10, 100, 1000]}]\n",
    "\n",
    "# svm_gs = GridSearchCV(SVC(C=1,probability=True), tuned_parameters, cv=5,verbose=1,n_jobs=-1)\n",
    "\n",
    "# svm_gs.fit(train,y)\n",
    "\n",
    "# # create predictions and submission file\n",
    "# predictions = svm_gs.predict_proba(test)[:,1]\n",
    "# sample['WnvPresent'] = predictions\n",
    "# sample.to_csv('svm_gs.csv', index=False)\n",
    "# [Parallel(n_jobs=-1)]: Done  42 tasks      | elapsed:  5.0min\n",
    "# [Parallel(n_jobs=-1)]: Done  60 out of  60 | elapsed: 378.9min finished\n",
    "# # 0.62295  Too slow!"
   ]
  },
  {
   "cell_type": "markdown",
   "metadata": {},
   "source": [
    "## Also try again including the spray distance info"
   ]
  },
  {
   "cell_type": "code",
   "execution_count": null,
   "metadata": {
    "collapsed": false
   },
   "outputs": [],
   "source": []
  },
  {
   "cell_type": "code",
   "execution_count": null,
   "metadata": {
    "collapsed": true
   },
   "outputs": [],
   "source": []
  }
 ],
 "metadata": {
  "anaconda-cloud": {},
  "kernelspec": {
   "display_name": "Python [conda env:dsi]",
   "language": "python",
   "name": "conda-env-dsi-py"
  },
  "language_info": {
   "codemirror_mode": {
    "name": "ipython",
    "version": 2
   },
   "file_extension": ".py",
   "mimetype": "text/x-python",
   "name": "python",
   "nbconvert_exporter": "python",
   "pygments_lexer": "ipython2",
   "version": "2.7.12"
  }
 },
 "nbformat": 4,
 "nbformat_minor": 1
}
