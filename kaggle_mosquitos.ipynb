{
 "cells": [
  {
   "cell_type": "code",
   "execution_count": 1,
   "metadata": {
    "collapsed": true
   },
   "outputs": [],
   "source": [
    "import matplotlib.pyplot as plt\n",
    "import numpy as np\n",
    "import pandas as pd\n",
    "\n",
    "import seaborn as sns\n",
    "\n",
    "\n",
    "%matplotlib inline\n",
    "%config InlineBackend.figure_format = 'retina'\n",
    "\n",
    "from sklearn.neighbors import KNeighborsClassifier\n",
    "from sklearn.cross_validation import StratifiedKFold"
   ]
  },
  {
   "cell_type": "code",
   "execution_count": 2,
   "metadata": {
    "collapsed": true
   },
   "outputs": [],
   "source": [
    "train_with_spray = pd.read_csv('/Users/nichollejames/Desktop/kaggle_competition/clean_data/train_with_spray.csv')"
   ]
  },
  {
   "cell_type": "code",
   "execution_count": 6,
   "metadata": {
    "collapsed": false
   },
   "outputs": [
    {
     "data": {
      "text/plain": [
       "['Unnamed: 0',\n",
       " 'Date',\n",
       " 'Address',\n",
       " 'Species',\n",
       " 'Block',\n",
       " 'Street',\n",
       " 'Trap',\n",
       " 'AddressNumberAndStreet',\n",
       " 'Latitude',\n",
       " 'Longitude',\n",
       " 'AddressAccuracy',\n",
       " 'NumMosquitos',\n",
       " 'WnvPresent',\n",
       " 'dist_to_spray']"
      ]
     },
     "execution_count": 6,
     "metadata": {},
     "output_type": "execute_result"
    }
   ],
   "source": [
    "train_with_spray.columns.tolist()"
   ]
  },
  {
   "cell_type": "code",
   "execution_count": 5,
   "metadata": {
    "collapsed": false
   },
   "outputs": [],
   "source": [
    "import imp\n",
    "plotter = imp.load_source('plotter', '/Users/nichollejames/Desktop/DSI-SF-2-oboechick/week-04/plotting/knn_plotter.py')\n",
    "from plotter import KNNBoundaryPlotter"
   ]
  },
  {
   "cell_type": "code",
   "execution_count": 16,
   "metadata": {
    "collapsed": false
   },
   "outputs": [
    {
     "data": {
      "text/plain": [
       "KNeighborsClassifier(algorithm='auto', leaf_size=30, metric='minkowski',\n",
       "           metric_params=None, n_jobs=1, n_neighbors=50, p=2,\n",
       "           weights='uniform')"
      ]
     },
     "execution_count": 16,
     "metadata": {},
     "output_type": "execute_result"
    }
   ],
   "source": [
    "y = train_with_spray.WnvPresent\n",
    "X = train_with_spray[[col for col in train_with_spray.columns if not col in ['Date',\n",
    "                                                 'Address',\n",
    "                                                 'Species',\n",
    "                                                 'Block',\n",
    "                                                 'Street',\n",
    "                                                 'Trap',\n",
    "                                                 'AddressNumberAndStreet',\n",
    "                                                 'Latitude',\n",
    "                                                 'Longitude',\n",
    "                                                 'AddressAccuracy',\n",
    "                                                 'NumMosquitos',\n",
    "                                                 'dist_to_spray']]].values\n",
    "\n",
    "knn_uniform_n3 = KNeighborsClassifier(n_neighbors = 50, weights = 'uniform')\n",
    "knn_uniform_n3.fit(X,y)"
   ]
  },
  {
   "cell_type": "code",
   "execution_count": 12,
   "metadata": {
    "collapsed": false
   },
   "outputs": [
    {
     "data": {
      "text/html": [
       "<div>\n",
       "<table border=\"1\" class=\"dataframe\">\n",
       "  <thead>\n",
       "    <tr style=\"text-align: right;\">\n",
       "      <th></th>\n",
       "      <th>Unnamed: 0</th>\n",
       "      <th>Block</th>\n",
       "      <th>Latitude</th>\n",
       "      <th>Longitude</th>\n",
       "      <th>AddressAccuracy</th>\n",
       "      <th>NumMosquitos</th>\n",
       "      <th>WnvPresent</th>\n",
       "      <th>dist_to_spray</th>\n",
       "    </tr>\n",
       "  </thead>\n",
       "  <tbody>\n",
       "    <tr>\n",
       "      <th>Unnamed: 0</th>\n",
       "      <td>1.000000</td>\n",
       "      <td>0.040425</td>\n",
       "      <td>0.147402</td>\n",
       "      <td>-0.179430</td>\n",
       "      <td>0.147362</td>\n",
       "      <td>-0.043395</td>\n",
       "      <td>0.066676</td>\n",
       "      <td>-0.290345</td>\n",
       "    </tr>\n",
       "    <tr>\n",
       "      <th>Block</th>\n",
       "      <td>0.040425</td>\n",
       "      <td>1.000000</td>\n",
       "      <td>0.091110</td>\n",
       "      <td>-0.090375</td>\n",
       "      <td>0.222134</td>\n",
       "      <td>-0.172388</td>\n",
       "      <td>0.004877</td>\n",
       "      <td>0.024042</td>\n",
       "    </tr>\n",
       "    <tr>\n",
       "      <th>Latitude</th>\n",
       "      <td>0.147402</td>\n",
       "      <td>0.091110</td>\n",
       "      <td>1.000000</td>\n",
       "      <td>-0.701795</td>\n",
       "      <td>0.444026</td>\n",
       "      <td>-0.184806</td>\n",
       "      <td>0.028697</td>\n",
       "      <td>-0.491534</td>\n",
       "    </tr>\n",
       "    <tr>\n",
       "      <th>Longitude</th>\n",
       "      <td>-0.179430</td>\n",
       "      <td>-0.090375</td>\n",
       "      <td>-0.701795</td>\n",
       "      <td>1.000000</td>\n",
       "      <td>-0.456775</td>\n",
       "      <td>0.036633</td>\n",
       "      <td>-0.060345</td>\n",
       "      <td>0.184654</td>\n",
       "    </tr>\n",
       "    <tr>\n",
       "      <th>AddressAccuracy</th>\n",
       "      <td>0.147362</td>\n",
       "      <td>0.222134</td>\n",
       "      <td>0.444026</td>\n",
       "      <td>-0.456775</td>\n",
       "      <td>1.000000</td>\n",
       "      <td>-0.248414</td>\n",
       "      <td>0.008064</td>\n",
       "      <td>-0.236795</td>\n",
       "    </tr>\n",
       "    <tr>\n",
       "      <th>NumMosquitos</th>\n",
       "      <td>-0.043395</td>\n",
       "      <td>-0.172388</td>\n",
       "      <td>-0.184806</td>\n",
       "      <td>0.036633</td>\n",
       "      <td>-0.248414</td>\n",
       "      <td>1.000000</td>\n",
       "      <td>0.196820</td>\n",
       "      <td>0.137007</td>\n",
       "    </tr>\n",
       "    <tr>\n",
       "      <th>WnvPresent</th>\n",
       "      <td>0.066676</td>\n",
       "      <td>0.004877</td>\n",
       "      <td>0.028697</td>\n",
       "      <td>-0.060345</td>\n",
       "      <td>0.008064</td>\n",
       "      <td>0.196820</td>\n",
       "      <td>1.000000</td>\n",
       "      <td>-0.047196</td>\n",
       "    </tr>\n",
       "    <tr>\n",
       "      <th>dist_to_spray</th>\n",
       "      <td>-0.290345</td>\n",
       "      <td>0.024042</td>\n",
       "      <td>-0.491534</td>\n",
       "      <td>0.184654</td>\n",
       "      <td>-0.236795</td>\n",
       "      <td>0.137007</td>\n",
       "      <td>-0.047196</td>\n",
       "      <td>1.000000</td>\n",
       "    </tr>\n",
       "  </tbody>\n",
       "</table>\n",
       "</div>"
      ],
      "text/plain": [
       "                 Unnamed: 0     Block  Latitude  Longitude  AddressAccuracy  \\\n",
       "Unnamed: 0         1.000000  0.040425  0.147402  -0.179430         0.147362   \n",
       "Block              0.040425  1.000000  0.091110  -0.090375         0.222134   \n",
       "Latitude           0.147402  0.091110  1.000000  -0.701795         0.444026   \n",
       "Longitude         -0.179430 -0.090375 -0.701795   1.000000        -0.456775   \n",
       "AddressAccuracy    0.147362  0.222134  0.444026  -0.456775         1.000000   \n",
       "NumMosquitos      -0.043395 -0.172388 -0.184806   0.036633        -0.248414   \n",
       "WnvPresent         0.066676  0.004877  0.028697  -0.060345         0.008064   \n",
       "dist_to_spray     -0.290345  0.024042 -0.491534   0.184654        -0.236795   \n",
       "\n",
       "                 NumMosquitos  WnvPresent  dist_to_spray  \n",
       "Unnamed: 0          -0.043395    0.066676      -0.290345  \n",
       "Block               -0.172388    0.004877       0.024042  \n",
       "Latitude            -0.184806    0.028697      -0.491534  \n",
       "Longitude            0.036633   -0.060345       0.184654  \n",
       "AddressAccuracy     -0.248414    0.008064      -0.236795  \n",
       "NumMosquitos         1.000000    0.196820       0.137007  \n",
       "WnvPresent           0.196820    1.000000      -0.047196  \n",
       "dist_to_spray        0.137007   -0.047196       1.000000  "
      ]
     },
     "execution_count": 12,
     "metadata": {},
     "output_type": "execute_result"
    }
   ],
   "source": [
    "train_with_spray.corr()"
   ]
  },
  {
   "cell_type": "code",
   "execution_count": null,
   "metadata": {
    "collapsed": true
   },
   "outputs": [],
   "source": []
  },
  {
   "cell_type": "code",
   "execution_count": 17,
   "metadata": {
    "collapsed": false
   },
   "outputs": [
    {
     "name": "stdout",
     "output_type": "stream",
     "text": [
      "('Fold accuracy:', 0.94719314938154142)\n",
      "('Fold accuracy:', 0.55354593050928125)\n",
      "('Fold accuracy:', 0.94764397905759157)\n",
      "('Fold accuracy:', 0.42360780580675866)\n",
      "('Fold accuracy:', 0.26368396001903854)\n",
      "('Mean CV accuracy:', 0.62713496495484233)\n"
     ]
    }
   ],
   "source": [
    "cv_indices = StratifiedKFold(y, n_folds=5)\n",
    "\n",
    "# Function to crossvalidate accuracy of a knn model across folds\n",
    "def accuracy_crossvalidator(X, y, knn, cv_indices):\n",
    "    \n",
    "    scores = []\n",
    "    \n",
    "    for train_i, test_i in cv_indices:\n",
    "        \n",
    "        X_train = X[train_i, :]\n",
    "        X_test = X[test_i, :]\n",
    "\n",
    "        y_train = y[train_i]\n",
    "        y_test = y[test_i]\n",
    "\n",
    "        knn.fit(X_train, y_train)\n",
    "        \n",
    "        acc = knn.score(X_test, y_test)\n",
    "        scores.append(acc)\n",
    "        \n",
    "        print('Fold accuracy:', acc)\n",
    "        \n",
    "    print('Mean CV accuracy:', np.mean(scores))\n",
    "    \n",
    "accuracy_crossvalidator(X, y, knn_uniform_n3, cv_indices)"
   ]
  },
  {
   "cell_type": "code",
   "execution_count": 18,
   "metadata": {
    "collapsed": false
   },
   "outputs": [
    {
     "data": {
      "text/plain": [
       "KNeighborsClassifier(algorithm='auto', leaf_size=30, metric='minkowski',\n",
       "           metric_params=None, n_jobs=1, n_neighbors=11, p=2,\n",
       "           weights='uniform')"
      ]
     },
     "execution_count": 18,
     "metadata": {},
     "output_type": "execute_result"
    }
   ],
   "source": [
    "knn_uni_n11 = KNeighborsClassifier(n_neighbors=11, weights='uniform')\n",
    "knn_uni_n11.fit(X, y)"
   ]
  },
  {
   "cell_type": "code",
   "execution_count": 19,
   "metadata": {
    "collapsed": false
   },
   "outputs": [
    {
     "ename": "NameError",
     "evalue": "name 'knn_dist_n11' is not defined",
     "output_type": "error",
     "traceback": [
      "\u001b[0;31m---------------------------------------------------------------------------\u001b[0m",
      "\u001b[0;31mNameError\u001b[0m                                 Traceback (most recent call last)",
      "\u001b[0;32m<ipython-input-19-7ec83d8bd2fe>\u001b[0m in \u001b[0;36m<module>\u001b[0;34m()\u001b[0m\n\u001b[0;32m----> 1\u001b[0;31m \u001b[0maccuracy_crossvalidator\u001b[0m\u001b[0;34m(\u001b[0m\u001b[0mX\u001b[0m\u001b[0;34m,\u001b[0m \u001b[0my\u001b[0m\u001b[0;34m,\u001b[0m \u001b[0mknn_dist_n11\u001b[0m\u001b[0;34m,\u001b[0m \u001b[0mcv_indices\u001b[0m\u001b[0;34m)\u001b[0m\u001b[0;34m\u001b[0m\u001b[0m\n\u001b[0m",
      "\u001b[0;31mNameError\u001b[0m: name 'knn_dist_n11' is not defined"
     ]
    }
   ],
   "source": [
    "accuracy_crossvalidator(X, y, knn_dist_n11, cv_indices)"
   ]
  },
  {
   "cell_type": "code",
   "execution_count": null,
   "metadata": {
    "collapsed": true
   },
   "outputs": [],
   "source": []
  },
  {
   "cell_type": "code",
   "execution_count": null,
   "metadata": {
    "collapsed": true
   },
   "outputs": [],
   "source": []
  },
  {
   "cell_type": "code",
   "execution_count": null,
   "metadata": {
    "collapsed": true
   },
   "outputs": [],
   "source": []
  },
  {
   "cell_type": "code",
   "execution_count": null,
   "metadata": {
    "collapsed": true
   },
   "outputs": [],
   "source": []
  },
  {
   "cell_type": "code",
   "execution_count": null,
   "metadata": {
    "collapsed": true
   },
   "outputs": [],
   "source": []
  },
  {
   "cell_type": "code",
   "execution_count": null,
   "metadata": {
    "collapsed": true
   },
   "outputs": [],
   "source": []
  },
  {
   "cell_type": "code",
   "execution_count": null,
   "metadata": {
    "collapsed": true
   },
   "outputs": [],
   "source": []
  },
  {
   "cell_type": "code",
   "execution_count": null,
   "metadata": {
    "collapsed": true
   },
   "outputs": [],
   "source": []
  },
  {
   "cell_type": "code",
   "execution_count": null,
   "metadata": {
    "collapsed": true
   },
   "outputs": [],
   "source": []
  }
 ],
 "metadata": {
  "kernelspec": {
   "display_name": "Python [dsi]",
   "language": "python",
   "name": "Python [dsi]"
  },
  "language_info": {
   "codemirror_mode": {
    "name": "ipython",
    "version": 2
   },
   "file_extension": ".py",
   "mimetype": "text/x-python",
   "name": "python",
   "nbconvert_exporter": "python",
   "pygments_lexer": "ipython2",
   "version": "2.7.12"
  }
 },
 "nbformat": 4,
 "nbformat_minor": 0
}
